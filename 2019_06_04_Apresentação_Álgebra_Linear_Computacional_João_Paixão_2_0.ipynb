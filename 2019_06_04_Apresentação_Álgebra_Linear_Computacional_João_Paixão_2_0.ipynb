{
  "nbformat": 4,
  "nbformat_minor": 0,
  "metadata": {
    "colab": {
      "name": "2019-06-04 Apresentação Álgebra Linear Computacional - João Paixão 2.0.ipynb",
      "version": "0.3.2",
      "provenance": [],
      "collapsed_sections": [
        "Q448yCBqZ5Ps"
      ],
      "toc_visible": true,
      "include_colab_link": true
    },
    "kernelspec": {
      "name": "python3",
      "display_name": "Python 3"
    }
  },
  "cells": [
    {
      "cell_type": "markdown",
      "metadata": {
        "id": "view-in-github",
        "colab_type": "text"
      },
      "source": [
        "<a href=\"https://colab.research.google.com/github/cyprianoeduardo/MAB760_Computational_Linear_Algebra/blob/master/2019_06_04_Apresenta%C3%A7%C3%A3o_%C3%81lgebra_Linear_Computacional_Jo%C3%A3o_Paix%C3%A3o_2_0.ipynb\" target=\"_parent\"><img src=\"https://colab.research.google.com/assets/colab-badge.svg\" alt=\"Open In Colab\"/></a>"
      ]
    },
    {
      "cell_type": "markdown",
      "metadata": {
        "id": "t3NtgHQxdh_-",
        "colab_type": "text"
      },
      "source": [
        "# Redução de Dimensionalidade e Recomendação de Filmes.\n",
        "\n",
        "    Autor: Eduardo de Souza Cypriano.\n",
        "\n",
        "    Apresentação sobre os temas de Redução de Dimensionalidade e Recomendação de Filmes, conforme solicitação e conhecimentos adquiridos através da disciplina de Álgebra Linear Computacional, no PPGI-UFRJ.\n",
        "    \n",
        "    \n",
        "\n",
        "---\n",
        "\n"
      ]
    },
    {
      "cell_type": "markdown",
      "metadata": {
        "id": "nwy580CmlbFK",
        "colab_type": "text"
      },
      "source": [
        "# Boa tarde!\n",
        "\n",
        "\n",
        "\n"
      ]
    },
    {
      "cell_type": "markdown",
      "metadata": {
        "id": "wBK10jaozKpj",
        "colab_type": "text"
      },
      "source": [
        "    Este sou eu tentando escolher os temas e admirando as possibilidades de aplicação da Álgebra Linear Computacional:\n",
        "![alt text](https://cdn-images-1.medium.com/max/800/0*tAWteW6Af3Ay5IGk.gif)"
      ]
    },
    {
      "cell_type": "markdown",
      "metadata": {
        "id": "QGzLqzFHn2Qn",
        "colab_type": "text"
      },
      "source": [
        "# O que eu devo assistir hoje à noite?\n"
      ]
    },
    {
      "cell_type": "markdown",
      "metadata": {
        "id": "4zcAO9UJz82E",
        "colab_type": "text"
      },
      "source": [
        "\n",
        "    Com que frequência você se pergunta, assim que chega em casa, depois de um dia cansativo de trabalho ou estudo, sobre qual filme vai assistir? Quanto a mim, particularmente, isto é recorrente. O que antigamente era uma tarefa relativamente simples, limitada ao acervo disponível numa estante de uma locadora, tornou-se complexa, visto à multiplicidade de opções disponíveis, muito devido à Internet e consequentes serviços de streaming.\n",
        "\n",
        "![alt text](https://cdn-images-1.medium.com/max/800/1*jR7ACuo0RmXwpHjcDAEqqg.gif)\n",
        "\n",
        "    No decorrer da década de 90, os Sistemas de Recomendação emergiram, trazendo ferramentas de software e técnicas com o intuito de prover sugestões de itens de uso para um usuário. Estas sugestões estão relacionadas a diversos processos de tomada de decisão, como escolher o que comprar, que música escutar, que notícias ler e que filme assistir ao final do dia(1). \n"
      ]
    },
    {
      "cell_type": "markdown",
      "metadata": {
        "id": "WqePCDqoy7eq",
        "colab_type": "text"
      },
      "source": [
        "# E como isso funciona?"
      ]
    },
    {
      "cell_type": "markdown",
      "metadata": {
        "id": "Nb_X9r6M0L20",
        "colab_type": "text"
      },
      "source": [
        "\n",
        "*   Como essas recomendações funcionam?\n",
        "\n",
        "*   Quais dados eu preciso para auxiliar estas recomendações?\n",
        "\n",
        "*   Existe um modelo preciso ou eficiente para este problema?\n",
        "\n",
        "*   Existe Álgebra Linear aqui?\n",
        "\n",
        "![alt text](https://cdn-images-1.medium.com/max/800/1*dT8rK8tgegG8nr1r2bz6bQ.gif)\n",
        "\n",
        "\n",
        "\n"
      ]
    },
    {
      "cell_type": "markdown",
      "metadata": {
        "id": "ta---WXK4lxr",
        "colab_type": "text"
      },
      "source": [
        "# Um milhão de dólares!\n"
      ]
    },
    {
      "cell_type": "markdown",
      "metadata": {
        "id": "Jc5h3_tS6tTU",
        "colab_type": "text"
      },
      "source": [
        "    Caso você soubesse todas essas respostas a exatos dez anos atrás, você teria esta quantia em mãos. Uma empresa de serviços de filmes via streaming ofereceu, em 2006, um prêmio para qualquer um que pudesse encontrar um sistema de recomendação de filmes mais preciso que seu sistema atual, em pelo menos 10%. Três anos depois, uma equipe foi premiada(2).\n",
        "    \n",
        "    A ordem de grandeza demonstra a relevâncias destes sistemas, não apenas para os usuários, como também para os modelos de négócios de empresas."
      ]
    },
    {
      "cell_type": "markdown",
      "metadata": {
        "id": "zPHV--b98mNt",
        "colab_type": "text"
      },
      "source": [
        "# Caminhos básicos"
      ]
    },
    {
      "cell_type": "markdown",
      "metadata": {
        "id": "U9_POXwT3eHy",
        "colab_type": "text"
      },
      "source": [
        "    Tradicionalmente, existem 2 métodos para construção de sistemas de recomendação:\n",
        "\n",
        "\n",
        "*   Recomendação baseada em conteúdo\n",
        "\n",
        "*   Filtragem colaborativa\n",
        "\n"
      ]
    },
    {
      "cell_type": "markdown",
      "metadata": {
        "id": "kJtwYbFI9wN2",
        "colab_type": "text"
      },
      "source": [
        "# Filtragem Colaborativa"
      ]
    },
    {
      "cell_type": "markdown",
      "metadata": {
        "id": "VPpgwFRZ93Mg",
        "colab_type": "text"
      },
      "source": [
        "    Divide-se em duas categorias:\n",
        "    \n",
        "\n",
        "*   Baseado no usuário\n",
        "\n",
        "*   Baseado no item\n",
        "\n"
      ]
    },
    {
      "cell_type": "markdown",
      "metadata": {
        "id": "Fkd5H2ttgbFe",
        "colab_type": "text"
      },
      "source": [
        "# Recomendador de filmes usando SVD(2)"
      ]
    },
    {
      "cell_type": "markdown",
      "metadata": {
        "id": "c4r7bHo08w_I",
        "colab_type": "text"
      },
      "source": [
        "    Dado um título de um filme, utilizaremos o método SVD(Single Value Decomposition) aprendido na disciplina, para recomendar filmes baseados nas classificações de usuários. Utilizaremos a base de dados MovieLens 1M, que consiste em aproximadamente 1 milhão de classificações de 4000 filmes, realizados por 6000 usuários(3)."
      ]
    },
    {
      "cell_type": "code",
      "metadata": {
        "id": "Fmng4R7egjq3",
        "colab_type": "code",
        "cellView": "both",
        "colab": {}
      },
      "source": [
        "#@title Importando bibliotecas\n",
        "\n",
        "import numpy as np\n",
        "import pandas as pd\n",
        "import matplotlib.pyplot as plt"
      ],
      "execution_count": 0,
      "outputs": []
    },
    {
      "cell_type": "code",
      "metadata": {
        "id": "rJj8m2jlgtPi",
        "colab_type": "code",
        "cellView": "both",
        "colab": {}
      },
      "source": [
        "#@title Importando as bases de dados `ratings.dat` e `movies.dat`, do [Dataset MovieLens 1M](https://grouplens.org/datasets/movielens/1m/)\n",
        "\n",
        "data = pd.io.parsers.read_csv('/content/ratings.dat', \n",
        "    names=['user_id', 'movie_id', 'rating', 'time'],\n",
        "    engine='python', delimiter='::')\n",
        "movie_data = pd.io.parsers.read_csv('/content/movies.dat',\n",
        "    names=['movie_id', 'title', 'genre'],\n",
        "    engine='python', delimiter='::')"
      ],
      "execution_count": 0,
      "outputs": []
    },
    {
      "cell_type": "code",
      "metadata": {
        "id": "VcaSyIw1gyyS",
        "colab_type": "code",
        "outputId": "813409b5-5fe8-4688-fccf-310333b8a279",
        "cellView": "form",
        "colab": {
          "base_uri": "https://localhost:8080/",
          "height": 204
        }
      },
      "source": [
        "#@title Analisando a tabela `data`\n",
        "\n",
        "data.head()"
      ],
      "execution_count": 3,
      "outputs": [
        {
          "output_type": "execute_result",
          "data": {
            "text/html": [
              "<div>\n",
              "<style scoped>\n",
              "    .dataframe tbody tr th:only-of-type {\n",
              "        vertical-align: middle;\n",
              "    }\n",
              "\n",
              "    .dataframe tbody tr th {\n",
              "        vertical-align: top;\n",
              "    }\n",
              "\n",
              "    .dataframe thead th {\n",
              "        text-align: right;\n",
              "    }\n",
              "</style>\n",
              "<table border=\"1\" class=\"dataframe\">\n",
              "  <thead>\n",
              "    <tr style=\"text-align: right;\">\n",
              "      <th></th>\n",
              "      <th>user_id</th>\n",
              "      <th>movie_id</th>\n",
              "      <th>rating</th>\n",
              "      <th>time</th>\n",
              "    </tr>\n",
              "  </thead>\n",
              "  <tbody>\n",
              "    <tr>\n",
              "      <th>0</th>\n",
              "      <td>1</td>\n",
              "      <td>1193</td>\n",
              "      <td>5</td>\n",
              "      <td>978300760</td>\n",
              "    </tr>\n",
              "    <tr>\n",
              "      <th>1</th>\n",
              "      <td>1</td>\n",
              "      <td>661</td>\n",
              "      <td>3</td>\n",
              "      <td>978302109</td>\n",
              "    </tr>\n",
              "    <tr>\n",
              "      <th>2</th>\n",
              "      <td>1</td>\n",
              "      <td>914</td>\n",
              "      <td>3</td>\n",
              "      <td>978301968</td>\n",
              "    </tr>\n",
              "    <tr>\n",
              "      <th>3</th>\n",
              "      <td>1</td>\n",
              "      <td>3408</td>\n",
              "      <td>4</td>\n",
              "      <td>978300275</td>\n",
              "    </tr>\n",
              "    <tr>\n",
              "      <th>4</th>\n",
              "      <td>1</td>\n",
              "      <td>2355</td>\n",
              "      <td>5</td>\n",
              "      <td>978824291</td>\n",
              "    </tr>\n",
              "  </tbody>\n",
              "</table>\n",
              "</div>"
            ],
            "text/plain": [
              "   user_id  movie_id  rating       time\n",
              "0        1      1193       5  978300760\n",
              "1        1       661       3  978302109\n",
              "2        1       914       3  978301968\n",
              "3        1      3408       4  978300275\n",
              "4        1      2355       5  978824291"
            ]
          },
          "metadata": {
            "tags": []
          },
          "execution_count": 3
        }
      ]
    },
    {
      "cell_type": "code",
      "metadata": {
        "id": "U1GSBNlG8YJm",
        "colab_type": "code",
        "outputId": "648a3c3a-d385-4676-949d-55dcb2b7bb9e",
        "cellView": "form",
        "colab": {
          "base_uri": "https://localhost:8080/",
          "height": 204
        }
      },
      "source": [
        "#@title Analisando a tabela `movie_data`\n",
        "\n",
        "movie_data.head()"
      ],
      "execution_count": 4,
      "outputs": [
        {
          "output_type": "execute_result",
          "data": {
            "text/html": [
              "<div>\n",
              "<style scoped>\n",
              "    .dataframe tbody tr th:only-of-type {\n",
              "        vertical-align: middle;\n",
              "    }\n",
              "\n",
              "    .dataframe tbody tr th {\n",
              "        vertical-align: top;\n",
              "    }\n",
              "\n",
              "    .dataframe thead th {\n",
              "        text-align: right;\n",
              "    }\n",
              "</style>\n",
              "<table border=\"1\" class=\"dataframe\">\n",
              "  <thead>\n",
              "    <tr style=\"text-align: right;\">\n",
              "      <th></th>\n",
              "      <th>movie_id</th>\n",
              "      <th>title</th>\n",
              "      <th>genre</th>\n",
              "    </tr>\n",
              "  </thead>\n",
              "  <tbody>\n",
              "    <tr>\n",
              "      <th>0</th>\n",
              "      <td>1</td>\n",
              "      <td>Toy Story (1995)</td>\n",
              "      <td>Animation|Children's|Comedy</td>\n",
              "    </tr>\n",
              "    <tr>\n",
              "      <th>1</th>\n",
              "      <td>2</td>\n",
              "      <td>Jumanji (1995)</td>\n",
              "      <td>Adventure|Children's|Fantasy</td>\n",
              "    </tr>\n",
              "    <tr>\n",
              "      <th>2</th>\n",
              "      <td>3</td>\n",
              "      <td>Grumpier Old Men (1995)</td>\n",
              "      <td>Comedy|Romance</td>\n",
              "    </tr>\n",
              "    <tr>\n",
              "      <th>3</th>\n",
              "      <td>4</td>\n",
              "      <td>Waiting to Exhale (1995)</td>\n",
              "      <td>Comedy|Drama</td>\n",
              "    </tr>\n",
              "    <tr>\n",
              "      <th>4</th>\n",
              "      <td>5</td>\n",
              "      <td>Father of the Bride Part II (1995)</td>\n",
              "      <td>Comedy</td>\n",
              "    </tr>\n",
              "  </tbody>\n",
              "</table>\n",
              "</div>"
            ],
            "text/plain": [
              "   movie_id                               title                         genre\n",
              "0         1                    Toy Story (1995)   Animation|Children's|Comedy\n",
              "1         2                      Jumanji (1995)  Adventure|Children's|Fantasy\n",
              "2         3             Grumpier Old Men (1995)                Comedy|Romance\n",
              "3         4            Waiting to Exhale (1995)                  Comedy|Drama\n",
              "4         5  Father of the Bride Part II (1995)                        Comedy"
            ]
          },
          "metadata": {
            "tags": []
          },
          "execution_count": 4
        }
      ]
    },
    {
      "cell_type": "code",
      "metadata": {
        "id": "gZflZphJg4mY",
        "colab_type": "code",
        "cellView": "both",
        "colab": {}
      },
      "source": [
        "#@title Criando a matriz de classificações (f × u), sendo linhas como filmes e colunas como usuários\n",
        "\n",
        "ratings_mat = np.ndarray(\n",
        "    shape=(np.max(data.movie_id.values), np.max(data.user_id.values)),\n",
        "    dtype=np.uint8)\n",
        "ratings_mat[data.movie_id.values-1, data.user_id.values-1] = data.rating.values"
      ],
      "execution_count": 0,
      "outputs": []
    },
    {
      "cell_type": "code",
      "metadata": {
        "id": "J51B0cSahD3p",
        "colab_type": "code",
        "cellView": "both",
        "colab": {}
      },
      "source": [
        "#@title Normalizando a matriz, subtraindo a média da mesma\n",
        "\n",
        "normalised_mat = ratings_mat - np.asarray([(np.mean(ratings_mat, 1))]).T"
      ],
      "execution_count": 0,
      "outputs": []
    },
    {
      "cell_type": "code",
      "metadata": {
        "id": "eAYCUKiHhH4J",
        "colab_type": "code",
        "cellView": "both",
        "colab": {}
      },
      "source": [
        "#@title Calculando o SVD\n",
        "\n",
        "A = normalised_mat.T / np.sqrt(ratings_mat.shape[0] - 1)\n",
        "U, S, V = np.linalg.svd(A)"
      ],
      "execution_count": 0,
      "outputs": []
    },
    {
      "cell_type": "code",
      "metadata": {
        "id": "0HMwljjDhPBV",
        "colab_type": "code",
        "cellView": "both",
        "colab": {}
      },
      "source": [
        "#@title Calculando a similaridade de cosseno, classificando os mais similares e retornando o maior\n",
        "\n",
        "def top_cosine_similarity(data, movie_id, top_n=10):\n",
        "    index = movie_id - 1 # Movie id starts from 1\n",
        "    movie_row = data[index, :]\n",
        "    magnitude = np.sqrt(np.einsum('ij, ij -> i', data, data))\n",
        "    similarity = np.dot(movie_row, data.T) / (magnitude[index] * magnitude)\n",
        "    sort_indexes = np.argsort(-similarity)\n",
        "    return sort_indexes[:top_n]\n",
        "\n",
        "# Helper function to print top N similar movies\n",
        "def print_similar_movies(movie_data, movie_id, top_indexes):\n",
        "    print('Recomendações para {0}: \\n'.format(\n",
        "    movie_data[movie_data.movie_id == movie_id].title.values[0]))\n",
        "    for id in top_indexes + 1:\n",
        "        print(movie_data[movie_data.movie_id == id].title.values[0])"
      ],
      "execution_count": 0,
      "outputs": []
    },
    {
      "cell_type": "code",
      "metadata": {
        "id": "GhErpJKh9xi5",
        "colab_type": "code",
        "outputId": "fe2c3ed2-8e56-40d5-9237-4312150882b8",
        "cellView": "form",
        "colab": {
          "base_uri": "https://localhost:8080/",
          "height": 283
        }
      },
      "source": [
        "#@title Analisando a quantidade de componentes principais (`k`) adequados\n",
        "\n",
        "df=pd.DataFrame({'xvalues': list(range(len(S))), 'yvalues': S })\n",
        " \n",
        "plt.plot( 'xvalues', 'yvalues', data=df)\n",
        "#plt.axis([0, len(S), 0, 6])\n",
        "plt.xlabel(\"K componentes principais\")\n",
        "plt.ylabel(\"Erro\")\n",
        "plt.show()"
      ],
      "execution_count": 9,
      "outputs": [
        {
          "output_type": "display_data",
          "data": {
            "image/png": "[encoded data removed]",
            "text/plain": [
              "<Figure size 432x288 with 1 Axes>"
            ]
          },
          "metadata": {
            "tags": []
          }
        }
      ]
    },
    {
      "cell_type": "code",
      "metadata": {
        "id": "3V5kI0M_8sEY",
        "colab_type": "code",
        "outputId": "7b3ba454-cf14-4aa3-c4a6-a36cad648777",
        "cellView": "form",
        "colab": {
          "base_uri": "https://localhost:8080/",
          "height": 283
        }
      },
      "source": [
        "#@title Visualizando a região mais próxima à inflexão\n",
        "\n",
        "df=pd.DataFrame({'xvalues': list(range(len(S))), 'yvalues': S })\n",
        " \n",
        "plt.plot( 'xvalues', 'yvalues', data=df)\n",
        "plt.axis([-50, 500, -50, 500])\n",
        "plt.xlabel(\"K componentes principais\")\n",
        "plt.ylabel(\"Erro\")\n",
        "plt.show()"
      ],
      "execution_count": 10,
      "outputs": [
        {
          "output_type": "display_data",
          "data": {
            "image/png": "[encoded data removed]",
            "text/plain": [
              "<Figure size 432x288 with 1 Axes>"
            ]
          },
          "metadata": {
            "tags": []
          }
        }
      ]
    },
    {
      "cell_type": "code",
      "metadata": {
        "id": "ZWo9vSoq4kMO",
        "colab_type": "code",
        "outputId": "439b368e-344d-4fd2-b9cd-998e1e916cfe",
        "cellView": "form",
        "colab": {
          "base_uri": "https://localhost:8080/",
          "height": 283
        }
      },
      "source": [
        "#@title Visualizando o erro através de uma função logarítmica\n",
        "df=pd.DataFrame({'xvalues': list(range(len(S))), 'yvalues': np.log(S) })\n",
        " \n",
        "plt.plot( 'xvalues', 'yvalues', data=df)\n",
        "plt.axis([-50, 500, 0, 9])\n",
        "plt.xlabel(\"K componentes principais\")\n",
        "plt.ylabel(\"log(Erro)\")\n",
        "plt.show()"
      ],
      "execution_count": 11,
      "outputs": [
        {
          "output_type": "display_data",
          "data": {
            "image/png": "[encoded data removed]",
            "text/plain": [
              "<Figure size 432x288 with 1 Axes>"
            ]
          },
          "metadata": {
            "tags": []
          }
        }
      ]
    },
    {
      "cell_type": "code",
      "metadata": {
        "id": "T4KrNhTNhT35",
        "colab_type": "code",
        "outputId": "c7352134-a81a-4ea0-fbc6-d77c5b5c0b26",
        "cellView": "form",
        "colab": {
          "base_uri": "https://localhost:8080/",
          "height": 589
        }
      },
      "source": [
        "#@title Definindo os `k` componentes principais para representar os filmes, um `movie_id` para encontrar recomendações e imprimir os `top_n` primeiros resultados\n",
        "\n",
        "movies_dict = dict(zip(movie_data[\"title\"].values, movie_data[\"movie_id\"].values))\n",
        "k = 75 #@param {type: \"slider\", min: 1, max: 500}\n",
        "movie_title = \"Toy Story (1995)\"  #@param ['Toy Story (1995)', 'GoldenEye (1995)', 'Top Gun (1986)', 'Dirty Dancing (1987)', 'Platoon (1986)', 'Chariots of Fire (1981)']\n",
        "movie_id = movies_dict[movie_title]\n",
        "top_n = 10 #@param {type: \"slider\", min: 1, max: 50}\n",
        "\n",
        "sliced = V.T[:, :k] # representative data\n",
        "indexes = top_cosine_similarity(sliced, movie_id, top_n)\n",
        "print_similar_movies(movie_data, movie_id, indexes)\n",
        "\n",
        "print(\"\\n\")\n",
        "\n",
        "df=pd.DataFrame({'xvalues': list(range(len(S))), 'yvalues': S })\n",
        "plt.plot( 'xvalues', 'yvalues', data=df)\n",
        "plt.scatter(k, S[k], color='red')\n",
        "plt.axis([-50, 500, -50, 500])\n",
        "plt.xlabel(\"K componentes principais\")\n",
        "plt.ylabel(\"Erro\")\n",
        "plt.show()\n",
        "\n",
        "print(\"\\n\", \"Matriz de coordenadas na base original: \", ratings_mat.shape,\n",
        "      \"\\n\", \"Matriz de coordenadas na nova base: \", sliced.shape,\n",
        "      \"\\n\", \"Taxa de compactação: \",\n",
        "      round(100 - (sliced.shape[1]*100/ratings_mat.shape[1]), 2), \" %\")"
      ],
      "execution_count": 33,
      "outputs": [
        {
          "output_type": "stream",
          "text": [
            "Recomendações para Toy Story (1995): \n",
            "\n",
            "Toy Story (1995)\n",
            "Groundhog Day (1993)\n",
            "Babe (1995)\n",
            "Aladdin (1992)\n",
            "Toy Story 2 (1999)\n",
            "Monty Python and the Holy Grail (1974)\n",
            "Beauty and the Beast (1991)\n",
            "Lion King, The (1994)\n",
            "Sword in the Stone, The (1963)\n",
            "Bug's Life, A (1998)\n",
            "\n",
            "\n"
          ],
          "name": "stdout"
        },
        {
          "output_type": "display_data",
          "data": {
            "image/png": "[encoded data removed]",
            "text/plain": [
              "<Figure size 432x288 with 1 Axes>"
            ]
          },
          "metadata": {
            "tags": []
          }
        },
        {
          "output_type": "stream",
          "text": [
            "\n",
            " Matriz de coordenadas na base original:  (3952, 6040) \n",
            " Matriz de coordenadas na nova base:  (3952, 75) \n",
            " Taxa de compactação:  98.76  %\n"
          ],
          "name": "stdout"
        }
      ]
    },
    {
      "cell_type": "markdown",
      "metadata": {
        "id": "QVbEl9znqKbZ",
        "colab_type": "text"
      },
      "source": [
        "# Referências"
      ]
    },
    {
      "cell_type": "markdown",
      "metadata": {
        "id": "XdfzTwsmqSLP",
        "colab_type": "text"
      },
      "source": [
        "1.   RICCI, Francesco e ROKACH, Lior e SHAPIRA, Bracha. Introduction to Recommender Systems Handbook. [S.d.]. Disponível em: <http://www.inf.unibz.it/~ricci/papers/intro-rec-sys-handbook.pdf>. Acesso em: 6 jun 2019.\n",
        "2.   GOWER, Stephen. Netflix Prize and SVD. . [S.l: s.n.], 2014. Disponível em: <http://buzzard.ups.edu/courses/2014spring/420projects/math420-UPS-spring-2014-gower-netflix-SVD.pdf>. Acesso em: 6 jun 2019.\n",
        "1.   GROUPLENS. MovieLens 1M Dataset | GroupLens. Disponível em: <https://grouplens.org/datasets/movielens/1m/>. Acesso em: 3 jun 2019. \n",
        "2.   QUEK, Alyssa. Simple Movie Recommender Using SVD | Alyssa. Disponível em: https://alyssaq.github.io/2015/20150426-simple-movie-recommender-using-svd/. Acesso em: 8 maio 2019.\n",
        "4.   KLEIN, Philip N. Coding the Matrix: Linear Algebra through Computer Science Applications. [S.l.]: Newtonian Press, 2013. \n",
        "5.   SHLENS, Jonathon. A Tutorial on Principal Component Analysis. 3 Abr 2014. Disponível em: <http://arxiv.org/abs/1404.1100>. Acesso em: 3 jun 2019."
      ]
    },
    {
      "cell_type": "markdown",
      "metadata": {
        "id": "Q448yCBqZ5Ps",
        "colab_type": "text"
      },
      "source": [
        "# Obrigado!"
      ]
    },
    {
      "cell_type": "markdown",
      "metadata": {
        "id": "49lu4_EzZ-eB",
        "colab_type": "text"
      },
      "source": [
        "![alt text](https://4.bp.blogspot.com/-fRLYrN8Ihbs/Tnod3NQLltI/AAAAAAAAANM/Jo8zY5YwNAE/s1600/xkcd435.png)"
      ]
    }
  ]
}