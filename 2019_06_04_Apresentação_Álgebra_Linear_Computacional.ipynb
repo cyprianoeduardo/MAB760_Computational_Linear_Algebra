{
  "nbformat": 4,
  "nbformat_minor": 0,
  "metadata": {
    "colab": {
      "name": "2019-06-04 Apresentação Álgebra Linear Computacional.ipynb",
      "version": "0.3.2",
      "provenance": [],
      "collapsed_sections": [],
      "include_colab_link": true
    },
    "kernelspec": {
      "name": "python3",
      "display_name": "Python 3"
    }
  },
  "cells": [
    {
      "cell_type": "markdown",
      "metadata": {
        "id": "view-in-github",
        "colab_type": "text"
      },
      "source": [
        "<a href=\"https://colab.research.google.com/github/cyprianoeduardo/MAB760_Computational_Linear_Algebra/blob/master/2019_06_04_Apresenta%C3%A7%C3%A3o_%C3%81lgebra_Linear_Computacional.ipynb\" target=\"_parent\"><img src=\"https://colab.research.google.com/assets/colab-badge.svg\" alt=\"Open In Colab\"/></a>"
      ]
    },
    {
      "cell_type": "markdown",
      "metadata": {
        "id": "t3NtgHQxdh_-",
        "colab_type": "text"
      },
      "source": [
        "# Apresentação sobre Redução de Dimensionalidade, Word2VEC e Recomendação de Filmes, referente ao Trabalho de Álgebra Linear Computacional"
      ]
    },
    {
      "cell_type": "markdown",
      "metadata": {
        "id": "dG2IjkWACC2Z",
        "colab_type": "text"
      },
      "source": [
        "# Stop Using word2vec"
      ]
    },
    {
      "cell_type": "markdown",
      "metadata": {
        "id": "v0UK7U1qOruS",
        "colab_type": "text"
      },
      "source": [
        "Hardcoding an Unigram"
      ]
    },
    {
      "cell_type": "code",
      "metadata": {
        "id": "c2BAldEXOpt2",
        "colab_type": "code",
        "colab": {}
      },
      "source": [
        "import numpy as np\n",
        "\n",
        "unigram = np.array([\"Tenha\", \"um\", \"bom\", \"excelente\", \"dia\", \"um\"])"
      ],
      "execution_count": 0,
      "outputs": []
    },
    {
      "cell_type": "markdown",
      "metadata": {
        "id": "A0vgig1B1pVG",
        "colab_type": "text"
      },
      "source": [
        "Defining a function to create a dictionary of Unigram counts"
      ]
    },
    {
      "cell_type": "code",
      "metadata": {
        "id": "Eck-7XYdvrAH",
        "colab_type": "code",
        "colab": {}
      },
      "source": [
        "def unigram_count(unigram):\n",
        "    \n",
        "    unicount = {}\n",
        "    for i in range(len(unigram)):\n",
        "        count = 0\n",
        "        for j in range(len(unigram)):\n",
        "            if unigram[i] == unigram[j]:\n",
        "                count += 1\n",
        "        unicount.update({unigram[i] : count})\n",
        "    return unicount"
      ],
      "execution_count": 0,
      "outputs": []
    },
    {
      "cell_type": "code",
      "metadata": {
        "id": "N2cy_gp4wd5y",
        "colab_type": "code",
        "colab": {}
      },
      "source": [
        "print(unigram_count(unigram))"
      ],
      "execution_count": 0,
      "outputs": []
    },
    {
      "cell_type": "markdown",
      "metadata": {
        "id": "hAlSqGXf16lU",
        "colab_type": "text"
      },
      "source": [
        "Defining a function to create a skipgram from a corpus"
      ]
    },
    {
      "cell_type": "code",
      "metadata": {
        "id": "EVHsTKqofquB",
        "colab_type": "code",
        "colab": {}
      },
      "source": [
        "def skipgram(corpus):\n",
        "    \n",
        "    skip = np.array([0, 0])\n",
        "    for i in range(len(corpus)):\n",
        "        for j in range(len(corpus)):\n",
        "            if corpus[i] != corpus[j]:\n",
        "                skip = np.vstack((skip, ([corpus[i], corpus[j]])))\n",
        "    return skip"
      ],
      "execution_count": 0,
      "outputs": []
    },
    {
      "cell_type": "code",
      "metadata": {
        "id": "fVOcJj5preov",
        "colab_type": "code",
        "outputId": "3a76b757-e31c-4f9a-8634-940abdc1019d",
        "colab": {
          "base_uri": "https://localhost:8080/",
          "height": 510
        }
      },
      "source": [
        "print (skipgram(unigram))"
      ],
      "execution_count": 0,
      "outputs": [
        {
          "output_type": "stream",
          "text": [
            "[['0' '0']\n",
            " ['Tenha' 'um']\n",
            " ['Tenha' 'bom']\n",
            " ['Tenha' 'excelente']\n",
            " ['Tenha' 'dia']\n",
            " ['Tenha' 'um']\n",
            " ['um' 'Tenha']\n",
            " ['um' 'bom']\n",
            " ['um' 'excelente']\n",
            " ['um' 'dia']\n",
            " ['bom' 'Tenha']\n",
            " ['bom' 'um']\n",
            " ['bom' 'excelente']\n",
            " ['bom' 'dia']\n",
            " ['bom' 'um']\n",
            " ['excelente' 'Tenha']\n",
            " ['excelente' 'um']\n",
            " ['excelente' 'bom']\n",
            " ['excelente' 'dia']\n",
            " ['excelente' 'um']\n",
            " ['dia' 'Tenha']\n",
            " ['dia' 'um']\n",
            " ['dia' 'bom']\n",
            " ['dia' 'excelente']\n",
            " ['dia' 'um']\n",
            " ['um' 'Tenha']\n",
            " ['um' 'bom']\n",
            " ['um' 'excelente']\n",
            " ['um' 'dia']]\n"
          ],
          "name": "stdout"
        }
      ]
    },
    {
      "cell_type": "markdown",
      "metadata": {
        "id": "O4Z1JXKr2Pp9",
        "colab_type": "text"
      },
      "source": [
        "Defining a function to create a dictionary of Skipgram counts"
      ]
    },
    {
      "cell_type": "code",
      "metadata": {
        "id": "sK4H-NhJ0B0u",
        "colab_type": "code",
        "colab": {}
      },
      "source": [
        "def skipgram_count(skipgram):\n",
        "    \n",
        "    skipcount = {}\n",
        "    for i in range(len(skipgram)):\n",
        "        count = 0\n",
        "        for j in range(len(skipgram)):\n",
        "            if skipgram[i].any == skipgram[j].any:\n",
        "                count += 1\n",
        "        skipcount.update({str(skipgram[i]) : count})\n",
        "    return skipcount"
      ],
      "execution_count": 0,
      "outputs": []
    },
    {
      "cell_type": "code",
      "metadata": {
        "id": "N5oP9i211Cpw",
        "colab_type": "code",
        "outputId": "9c32ff48-5593-40ed-fe9f-d512a6b5c74a",
        "colab": {
          "base_uri": "https://localhost:8080/",
          "height": 54
        }
      },
      "source": [
        "A = skipgram(unigram)\n",
        "print(skipgram_count(A))"
      ],
      "execution_count": 0,
      "outputs": [
        {
          "output_type": "stream",
          "text": [
            "{\"['0' '0']\": 0, \"['Tenha' 'um']\": 0, \"['Tenha' 'bom']\": 0, \"['Tenha' 'excelente']\": 0, \"['Tenha' 'dia']\": 0, \"['um' 'Tenha']\": 0, \"['um' 'bom']\": 0, \"['um' 'excelente']\": 0, \"['um' 'dia']\": 0, \"['bom' 'Tenha']\": 0, \"['bom' 'um']\": 0, \"['bom' 'excelente']\": 0, \"['bom' 'dia']\": 0, \"['excelente' 'Tenha']\": 0, \"['excelente' 'um']\": 0, \"['excelente' 'bom']\": 0, \"['excelente' 'dia']\": 0, \"['dia' 'Tenha']\": 0, \"['dia' 'um']\": 0, \"['dia' 'bom']\": 0, \"['dia' 'excelente']\": 0}\n"
          ],
          "name": "stdout"
        }
      ]
    },
    {
      "cell_type": "code",
      "metadata": {
        "id": "GFKb7n0nVl9k",
        "colab_type": "code",
        "colab": {}
      },
      "source": [
        "def skipgram_count(word_1, word_2, corpus):\n",
        "    \n",
        "    count = 0\n",
        "    for i in range(len(corpus)):\n",
        "        for j in range(len(corpus)-1 , 0, -1):\n",
        "            if word_1 == corpus[i] and word_2 == corpus[j] and word_1 != word_2:\n",
        "                count += 1\n",
        "    return count"
      ],
      "execution_count": 0,
      "outputs": []
    },
    {
      "cell_type": "code",
      "metadata": {
        "id": "VGW5qG1McazA",
        "colab_type": "code",
        "outputId": "4195681d-c2f5-42eb-f317-3660e9bc7e41",
        "colab": {
          "base_uri": "https://localhost:8080/",
          "height": 34
        }
      },
      "source": [
        "skipgram_count(\"um\", \"bom\", unigram)"
      ],
      "execution_count": 0,
      "outputs": [
        {
          "output_type": "execute_result",
          "data": {
            "text/plain": [
              "2"
            ]
          },
          "metadata": {
            "tags": []
          },
          "execution_count": 70
        }
      ]
    },
    {
      "cell_type": "markdown",
      "metadata": {
        "id": "QVbEl9znqKbZ",
        "colab_type": "text"
      },
      "source": [
        "# Referências"
      ]
    },
    {
      "cell_type": "markdown",
      "metadata": {
        "id": "XdfzTwsmqSLP",
        "colab_type": "text"
      },
      "source": [
        "1. MOODY, Chris. Stop Using word2vec | Stitch Fix Technology – Multithreaded. Disponível em: <https://multithreaded.stitchfix.com/blog/2017/10/18/stop-using-word2vec/>. Acesso em: 8 maio 2019. "
      ]
    }
  ]
}