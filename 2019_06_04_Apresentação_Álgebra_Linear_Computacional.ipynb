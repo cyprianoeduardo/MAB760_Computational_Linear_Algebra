{
  "nbformat": 4,
  "nbformat_minor": 0,
  "metadata": {
    "colab": {
      "name": "2019-06-04 Apresentação Álgebra Linear Computacional.ipynb",
      "version": "0.3.2",
      "provenance": [],
      "collapsed_sections": [],
      "include_colab_link": true
    },
    "kernelspec": {
      "name": "python3",
      "display_name": "Python 3"
    }
  },
  "cells": [
    {
      "cell_type": "markdown",
      "metadata": {
        "id": "view-in-github",
        "colab_type": "text"
      },
      "source": [
        "<a href=\"https://colab.research.google.com/github/cyprianoeduardo/MAB760_Computational_Linear_Algebra/blob/master/2019_06_04_Apresenta%C3%A7%C3%A3o_%C3%81lgebra_Linear_Computacional.ipynb\" target=\"_parent\"><img src=\"https://colab.research.google.com/assets/colab-badge.svg\" alt=\"Open In Colab\"/></a>"
      ]
    },
    {
      "cell_type": "markdown",
      "metadata": {
        "id": "t3NtgHQxdh_-",
        "colab_type": "text"
      },
      "source": [
        "# Apresentação sobre Redução de Dimensionalidade, Word2VEC e Recomendação de Filmes, referente ao Trabalho de Álgebra Linear Computacional"
      ]
    },
    {
      "cell_type": "markdown",
      "metadata": {
        "id": "dG2IjkWACC2Z",
        "colab_type": "text"
      },
      "source": [
        "# Stop Using word2vec"
      ]
    },
    {
      "cell_type": "markdown",
      "metadata": {
        "id": "v0UK7U1qOruS",
        "colab_type": "text"
      },
      "source": [
        "Hardcoding an Unigram"
      ]
    },
    {
      "cell_type": "code",
      "metadata": {
        "id": "c2BAldEXOpt2",
        "colab_type": "code",
        "colab": {}
      },
      "source": [
        "import numpy as np\n",
        "\n",
        "unigram = np.array([\"Tenha\", \"um\", \"bom\", \"excelente\", \"dia\", \"um\"])"
      ],
      "execution_count": 0,
      "outputs": []
    },
    {
      "cell_type": "markdown",
      "metadata": {
        "id": "A0vgig1B1pVG",
        "colab_type": "text"
      },
      "source": [
        "Defining a function to create a dictionary of Unigram counts"
      ]
    },
    {
      "cell_type": "code",
      "metadata": {
        "id": "Eck-7XYdvrAH",
        "colab_type": "code",
        "colab": {}
      },
      "source": [
        "def unigram_count(unigram):\n",
        "    \n",
        "    unicount = {}\n",
        "    for i in range(len(unigram)):\n",
        "        count = 0\n",
        "        for j in range(len(unigram)):\n",
        "            if unigram[i] == unigram[j]:\n",
        "                count += 1\n",
        "        unicount.update({unigram[i] : count})\n",
        "    return unicount"
      ],
      "execution_count": 0,
      "outputs": []
    },
    {
      "cell_type": "code",
      "metadata": {
        "id": "N2cy_gp4wd5y",
        "colab_type": "code",
        "colab": {}
      },
      "source": [
        "print(unigram_count(unigram))"
      ],
      "execution_count": 0,
      "outputs": []
    },
    {
      "cell_type": "markdown",
      "metadata": {
        "id": "hAlSqGXf16lU",
        "colab_type": "text"
      },
      "source": [
        "Defining a function to create a skipgram from a corpus"
      ]
    },
    {
      "cell_type": "code",
      "metadata": {
        "id": "EVHsTKqofquB",
        "colab_type": "code",
        "colab": {}
      },
      "source": [
        "def skipgram(corpus):\n",
        "    \n",
        "    skip = np.array([0, 0])\n",
        "    for i in range(len(corpus)):\n",
        "        for j in range(len(corpus)):\n",
        "            if corpus[i] != corpus[j]:\n",
        "                skip = np.vstack((skip, ([corpus[i], corpus[j]])))\n",
        "    return skip"
      ],
      "execution_count": 0,
      "outputs": []
    },
    {
      "cell_type": "code",
      "metadata": {
        "id": "fVOcJj5preov",
        "colab_type": "code",
        "colab": {}
      },
      "source": [
        "print (skipgram(unigram))"
      ],
      "execution_count": 0,
      "outputs": []
    },
    {
      "cell_type": "markdown",
      "metadata": {
        "id": "O4Z1JXKr2Pp9",
        "colab_type": "text"
      },
      "source": [
        "Defining a function to create a dictionary of Skipgram counts"
      ]
    },
    {
      "cell_type": "code",
      "metadata": {
        "id": "sK4H-NhJ0B0u",
        "colab_type": "code",
        "colab": {}
      },
      "source": [
        "def skipgram_count(skipgram):\n",
        "    \n",
        "    skipcount = {}\n",
        "    for i in range(len(skipgram)):\n",
        "        count = 0\n",
        "        for j in range(len(skipgram)):\n",
        "            if skipgram[i] == skipgram[j]:\n",
        "                count += 1\n",
        "        skipcount.update({skipgram[i] : count})\n",
        "    return skipcount"
      ],
      "execution_count": 0,
      "outputs": []
    },
    {
      "cell_type": "code",
      "metadata": {
        "id": "N5oP9i211Cpw",
        "colab_type": "code",
        "colab": {
          "base_uri": "https://localhost:8080/",
          "height": 283
        },
        "outputId": "a0cdd791-dc5f-4141-ce1c-4d84c98a926d"
      },
      "source": [
        "print(skipgram_count(skipgram(unigram)))"
      ],
      "execution_count": 140,
      "outputs": [
        {
          "output_type": "error",
          "ename": "ValueError",
          "evalue": "ignored",
          "traceback": [
            "\u001b[0;31m---------------------------------------------------------------------------\u001b[0m",
            "\u001b[0;31mValueError\u001b[0m                                Traceback (most recent call last)",
            "\u001b[0;32m<ipython-input-140-6600e5e716b0>\u001b[0m in \u001b[0;36m<module>\u001b[0;34m()\u001b[0m\n\u001b[0;32m----> 1\u001b[0;31m \u001b[0mprint\u001b[0m\u001b[0;34m(\u001b[0m\u001b[0mskipgram_count\u001b[0m\u001b[0;34m(\u001b[0m\u001b[0mskipgram\u001b[0m\u001b[0;34m(\u001b[0m\u001b[0munigram\u001b[0m\u001b[0;34m)\u001b[0m\u001b[0;34m)\u001b[0m\u001b[0;34m)\u001b[0m\u001b[0;34m\u001b[0m\u001b[0;34m\u001b[0m\u001b[0m\n\u001b[0m",
            "\u001b[0;32m<ipython-input-135-796f65fa129b>\u001b[0m in \u001b[0;36mskipgram_count\u001b[0;34m(skipgram)\u001b[0m\n\u001b[1;32m      5\u001b[0m         \u001b[0mcount\u001b[0m \u001b[0;34m=\u001b[0m \u001b[0;36m0\u001b[0m\u001b[0;34m\u001b[0m\u001b[0;34m\u001b[0m\u001b[0m\n\u001b[1;32m      6\u001b[0m         \u001b[0;32mfor\u001b[0m \u001b[0mj\u001b[0m \u001b[0;32min\u001b[0m \u001b[0mrange\u001b[0m\u001b[0;34m(\u001b[0m\u001b[0mlen\u001b[0m\u001b[0;34m(\u001b[0m\u001b[0mskipgram\u001b[0m\u001b[0;34m)\u001b[0m\u001b[0;34m)\u001b[0m\u001b[0;34m:\u001b[0m\u001b[0;34m\u001b[0m\u001b[0;34m\u001b[0m\u001b[0m\n\u001b[0;32m----> 7\u001b[0;31m             \u001b[0;32mif\u001b[0m \u001b[0mskipgram\u001b[0m\u001b[0;34m[\u001b[0m\u001b[0mi\u001b[0m\u001b[0;34m]\u001b[0m \u001b[0;34m==\u001b[0m \u001b[0mskipgram\u001b[0m\u001b[0;34m[\u001b[0m\u001b[0mj\u001b[0m\u001b[0;34m]\u001b[0m\u001b[0;34m:\u001b[0m\u001b[0;34m\u001b[0m\u001b[0;34m\u001b[0m\u001b[0m\n\u001b[0m\u001b[1;32m      8\u001b[0m                 \u001b[0mcount\u001b[0m \u001b[0;34m+=\u001b[0m \u001b[0;36m1\u001b[0m\u001b[0;34m\u001b[0m\u001b[0;34m\u001b[0m\u001b[0m\n\u001b[1;32m      9\u001b[0m         \u001b[0mskipcount\u001b[0m\u001b[0;34m.\u001b[0m\u001b[0mupdate\u001b[0m\u001b[0;34m(\u001b[0m\u001b[0;34m{\u001b[0m\u001b[0mskipgram\u001b[0m\u001b[0;34m[\u001b[0m\u001b[0mi\u001b[0m\u001b[0;34m]\u001b[0m \u001b[0;34m:\u001b[0m \u001b[0mcount\u001b[0m\u001b[0;34m}\u001b[0m\u001b[0;34m)\u001b[0m\u001b[0;34m\u001b[0m\u001b[0;34m\u001b[0m\u001b[0m\n",
            "\u001b[0;31mValueError\u001b[0m: The truth value of an array with more than one element is ambiguous. Use a.any() or a.all()"
          ]
        }
      ]
    },
    {
      "cell_type": "code",
      "metadata": {
        "id": "GFKb7n0nVl9k",
        "colab_type": "code",
        "colab": {}
      },
      "source": [
        "def skipgram_count(word_1, word_2, corpus):\n",
        "    \n",
        "    count = 0\n",
        "    for i in range(len(corpus)):\n",
        "        for j in range(len(corpus)-1 , 0, -1):\n",
        "            if word_1 == corpus[i] and word_2 == corpus[j] and word_1 != word_2:\n",
        "                count += 1\n",
        "    return count"
      ],
      "execution_count": 0,
      "outputs": []
    },
    {
      "cell_type": "code",
      "metadata": {
        "id": "VGW5qG1McazA",
        "colab_type": "code",
        "colab": {
          "base_uri": "https://localhost:8080/",
          "height": 34
        },
        "outputId": "4195681d-c2f5-42eb-f317-3660e9bc7e41"
      },
      "source": [
        "skipgram_count(\"um\", \"bom\", unigram)"
      ],
      "execution_count": 70,
      "outputs": [
        {
          "output_type": "execute_result",
          "data": {
            "text/plain": [
              "2"
            ]
          },
          "metadata": {
            "tags": []
          },
          "execution_count": 70
        }
      ]
    },
    {
      "cell_type": "markdown",
      "metadata": {
        "id": "siKhf3AFMJFX",
        "colab_type": "text"
      },
      "source": [
        "# Matrix2Plot"
      ]
    },
    {
      "cell_type": "code",
      "metadata": {
        "id": "UIFEQIm6sCKY",
        "colab_type": "code",
        "colab": {}
      },
      "source": [
        "import numpy as np\n",
        "import matplotlib.pyplot as plt\n",
        "\n",
        "def matrixToPlot(matrix, vectorsCol=['#FF9A13', '#1190FF']):\n",
        "    \"\"\"\n",
        "    Modify the unit circle and basis vector by applying a matrix.\n",
        "    Visualize the effect of the matrix in 2D.\n",
        "\n",
        "    Parameters\n",
        "    ----------\n",
        "    matrix : array-like\n",
        "        2D matrix to apply to the unit circle.\n",
        "    vectorsCol : HEX color code\n",
        "        Color of the basis vectors\n",
        "\n",
        "    Returns:\n",
        "\n",
        "    fig : instance of matplotlib.figure.Figure\n",
        "        The figure containing modified unit circle and basis vectors.\n",
        "    \"\"\"\n",
        "    # Unit circle\n",
        "    x = np.linspace(-1, 1, 100000)\n",
        "    y = np.sqrt(1-(x**2))\n",
        "\n",
        "    # Modified unit circle (separate negative and positive parts)\n",
        "    x1 = matrix[0,0]*x + matrix[0,1]*y\n",
        "    y1 = matrix[1,0]*x + matrix[1,1]*y\n",
        "    x1_neg = matrix[0,0]*x - matrix[0,1]*y\n",
        "    y1_neg = matrix[1,0]*x - matrix[1,1]*y\n",
        "\n",
        "    # Vectors\n",
        "    u1 = [matrix[0,0],matrix[1,0]]\n",
        "    v1 = [matrix[0,1],matrix[1,1]]\n",
        "\n",
        "    plt.plot(x1, y1, 'g', alpha=0.5)\n",
        "    plt.plot(x1_neg, y1_neg, 'g', alpha=0.5)"
      ],
      "execution_count": 0,
      "outputs": []
    },
    {
      "cell_type": "code",
      "metadata": {
        "id": "7ktOlwUQt50I",
        "colab_type": "code",
        "outputId": "607f443b-fb47-475e-ddfd-758c9dafded6",
        "colab": {
          "base_uri": "https://localhost:8080/",
          "height": 555
        }
      },
      "source": [
        "A = np.array([[3, 7], [5, 2]])\n",
        "\n",
        "print ('Unit circle:')\n",
        "matrixToPlot(np.array([[1, 0], [0, 1]]))\n",
        "plt.xlim(-1.5, 1.5)\n",
        "plt.ylim(-1.5, 1.5)\n",
        "plt.show()\n",
        "\n",
        "print ('Unit circle transformed by A:')\n",
        "matrixToPlot(A)\n",
        "plt.xlim(-8, 8)\n",
        "plt.ylim(-8, 8)\n",
        "plt.show()"
      ],
      "execution_count": 0,
      "outputs": [
        {
          "output_type": "stream",
          "text": [
            "Unit circle:\n"
          ],
          "name": "stdout"
        },
        {
          "output_type": "display_data",
          "data": {
            "image/png": "[encoded data removed]",
            "text/plain": [
              "<Figure size 432x288 with 1 Axes>"
            ]
          },
          "metadata": {
            "tags": []
          }
        },
        {
          "output_type": "stream",
          "text": [
            "Unit circle transformed by A:\n"
          ],
          "name": "stdout"
        },
        {
          "output_type": "display_data",
          "data": {
            "image/png": "[encoded data removed]",
            "text/plain": [
              "<Figure size 432x288 with 1 Axes>"
            ]
          },
          "metadata": {
            "tags": []
          }
        }
      ]
    },
    {
      "cell_type": "code",
      "metadata": {
        "id": "3vYMLgASuBMz",
        "colab_type": "code",
        "colab": {}
      },
      "source": [
        ""
      ],
      "execution_count": 0,
      "outputs": []
    }
  ]
}