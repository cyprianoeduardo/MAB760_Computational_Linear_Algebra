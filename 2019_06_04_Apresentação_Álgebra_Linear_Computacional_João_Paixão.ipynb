{
  "nbformat": 4,
  "nbformat_minor": 0,
  "metadata": {
    "colab": {
      "name": "2019-06-04 Apresentação Álgebra Linear Computacional - João Paixão.ipynb",
      "version": "0.3.2",
      "provenance": [],
      "collapsed_sections": [
        "O1qGOK_un4FJ",
        "Fkd5H2ttgbFe",
        "QVbEl9znqKbZ",
        "Q448yCBqZ5Ps"
      ],
      "include_colab_link": true
    },
    "kernelspec": {
      "name": "python3",
      "display_name": "Python 3"
    }
  },
  "cells": [
    {
      "cell_type": "markdown",
      "metadata": {
        "id": "view-in-github",
        "colab_type": "text"
      },
      "source": [
        "<a href=\"https://colab.research.google.com/github/cyprianoeduardo/MAB760_Computational_Linear_Algebra/blob/master/2019_06_04_Apresenta%C3%A7%C3%A3o_%C3%81lgebra_Linear_Computacional_Jo%C3%A3o_Paix%C3%A3o.ipynb\" target=\"_parent\"><img src=\"https://colab.research.google.com/assets/colab-badge.svg\" alt=\"Open In Colab\"/></a>"
      ]
    },
    {
      "cell_type": "markdown",
      "metadata": {
        "id": "t3NtgHQxdh_-",
        "colab_type": "text"
      },
      "source": [
        "# Redução de Dimensionalidade e Recomendação de Filmes.\n",
        "\n",
        "Autor: Eduardo de Souza Cypriano.\n",
        "\n",
        "Apresentação sobre os temas de Redução de Dimensionalidade e Recomendação de Filmes, conforme solicitação e conhecimentos adquiridos através da disciplina de Álgebra Linear Computacional, no PPGI-UFRJ."
      ]
    },
    {
      "cell_type": "markdown",
      "metadata": {
        "id": "O1qGOK_un4FJ",
        "colab_type": "text"
      },
      "source": [
        "# Introdução"
      ]
    },
    {
      "cell_type": "markdown",
      "metadata": {
        "id": "U9_POXwT3eHy",
        "colab_type": "text"
      },
      "source": [
        "Dado um título de um filme, utilizaremos o método SVD(Single Value Decomposition) aprendido na disciplina, para recomendar filmes baseados nas classificações de usuários. Utilizaremos a base de dados *MovieLens 1M*, que consiste em aproximadamente 1 milhão de classificações de 4000 filmes, realizados por 6000 usuários.(1)"
      ]
    },
    {
      "cell_type": "markdown",
      "metadata": {
        "id": "Fkd5H2ttgbFe",
        "colab_type": "text"
      },
      "source": [
        "# Recomendador de filmes usando SVD(2)"
      ]
    },
    {
      "cell_type": "code",
      "metadata": {
        "id": "Fmng4R7egjq3",
        "colab_type": "code",
        "cellView": "form",
        "colab": {}
      },
      "source": [
        "#@title Importando bibliotecas\n",
        "\n",
        "import numpy as np\n",
        "import pandas as pd\n",
        "import matplotlib.pyplot as plt"
      ],
      "execution_count": 0,
      "outputs": []
    },
    {
      "cell_type": "code",
      "metadata": {
        "id": "rJj8m2jlgtPi",
        "colab_type": "code",
        "cellView": "form",
        "colab": {}
      },
      "source": [
        "#@title Importando as bases de dados `ratings.dat` e `movies.dat`, do [Dataset MovieLens 1M](https://grouplens.org/datasets/movielens/1m/)\n",
        "\n",
        "data = pd.io.parsers.read_csv('/content/ratings.dat', \n",
        "    names=['user_id', 'movie_id', 'rating', 'time'],\n",
        "    engine='python', delimiter='::')\n",
        "movie_data = pd.io.parsers.read_csv('/content/movies.dat',\n",
        "    names=['movie_id', 'title', 'genre'],\n",
        "    engine='python', delimiter='::')"
      ],
      "execution_count": 0,
      "outputs": []
    },
    {
      "cell_type": "code",
      "metadata": {
        "id": "VcaSyIw1gyyS",
        "colab_type": "code",
        "outputId": "5f4a0eae-b642-4474-d21d-06a860aa0f87",
        "cellView": "form",
        "colab": {
          "base_uri": "https://localhost:8080/",
          "height": 204
        }
      },
      "source": [
        "#@title Analisando a tabela `data`\n",
        "\n",
        "data.head()"
      ],
      "execution_count": 0,
      "outputs": [
        {
          "output_type": "execute_result",
          "data": {
            "text/html": [
              "<div>\n",
              "<style scoped>\n",
              "    .dataframe tbody tr th:only-of-type {\n",
              "        vertical-align: middle;\n",
              "    }\n",
              "\n",
              "    .dataframe tbody tr th {\n",
              "        vertical-align: top;\n",
              "    }\n",
              "\n",
              "    .dataframe thead th {\n",
              "        text-align: right;\n",
              "    }\n",
              "</style>\n",
              "<table border=\"1\" class=\"dataframe\">\n",
              "  <thead>\n",
              "    <tr style=\"text-align: right;\">\n",
              "      <th></th>\n",
              "      <th>user_id</th>\n",
              "      <th>movie_id</th>\n",
              "      <th>rating</th>\n",
              "      <th>time</th>\n",
              "    </tr>\n",
              "  </thead>\n",
              "  <tbody>\n",
              "    <tr>\n",
              "      <th>0</th>\n",
              "      <td>1</td>\n",
              "      <td>1193</td>\n",
              "      <td>5</td>\n",
              "      <td>978300760</td>\n",
              "    </tr>\n",
              "    <tr>\n",
              "      <th>1</th>\n",
              "      <td>1</td>\n",
              "      <td>661</td>\n",
              "      <td>3</td>\n",
              "      <td>978302109</td>\n",
              "    </tr>\n",
              "    <tr>\n",
              "      <th>2</th>\n",
              "      <td>1</td>\n",
              "      <td>914</td>\n",
              "      <td>3</td>\n",
              "      <td>978301968</td>\n",
              "    </tr>\n",
              "    <tr>\n",
              "      <th>3</th>\n",
              "      <td>1</td>\n",
              "      <td>3408</td>\n",
              "      <td>4</td>\n",
              "      <td>978300275</td>\n",
              "    </tr>\n",
              "    <tr>\n",
              "      <th>4</th>\n",
              "      <td>1</td>\n",
              "      <td>2355</td>\n",
              "      <td>5</td>\n",
              "      <td>978824291</td>\n",
              "    </tr>\n",
              "  </tbody>\n",
              "</table>\n",
              "</div>"
            ],
            "text/plain": [
              "   user_id  movie_id  rating       time\n",
              "0        1      1193       5  978300760\n",
              "1        1       661       3  978302109\n",
              "2        1       914       3  978301968\n",
              "3        1      3408       4  978300275\n",
              "4        1      2355       5  978824291"
            ]
          },
          "metadata": {
            "tags": []
          },
          "execution_count": 3
        }
      ]
    },
    {
      "cell_type": "code",
      "metadata": {
        "id": "U1GSBNlG8YJm",
        "colab_type": "code",
        "outputId": "8ce7af1c-4e36-42c7-fad9-eb90eab19795",
        "cellView": "form",
        "colab": {
          "base_uri": "https://localhost:8080/",
          "height": 204
        }
      },
      "source": [
        "#@title Analisando a tabela `movie_data`\n",
        "\n",
        "movie_data.head()"
      ],
      "execution_count": 0,
      "outputs": [
        {
          "output_type": "execute_result",
          "data": {
            "text/html": [
              "<div>\n",
              "<style scoped>\n",
              "    .dataframe tbody tr th:only-of-type {\n",
              "        vertical-align: middle;\n",
              "    }\n",
              "\n",
              "    .dataframe tbody tr th {\n",
              "        vertical-align: top;\n",
              "    }\n",
              "\n",
              "    .dataframe thead th {\n",
              "        text-align: right;\n",
              "    }\n",
              "</style>\n",
              "<table border=\"1\" class=\"dataframe\">\n",
              "  <thead>\n",
              "    <tr style=\"text-align: right;\">\n",
              "      <th></th>\n",
              "      <th>movie_id</th>\n",
              "      <th>title</th>\n",
              "      <th>genre</th>\n",
              "    </tr>\n",
              "  </thead>\n",
              "  <tbody>\n",
              "    <tr>\n",
              "      <th>0</th>\n",
              "      <td>1</td>\n",
              "      <td>Toy Story (1995)</td>\n",
              "      <td>Animation|Children's|Comedy</td>\n",
              "    </tr>\n",
              "    <tr>\n",
              "      <th>1</th>\n",
              "      <td>2</td>\n",
              "      <td>Jumanji (1995)</td>\n",
              "      <td>Adventure|Children's|Fantasy</td>\n",
              "    </tr>\n",
              "    <tr>\n",
              "      <th>2</th>\n",
              "      <td>3</td>\n",
              "      <td>Grumpier Old Men (1995)</td>\n",
              "      <td>Comedy|Romance</td>\n",
              "    </tr>\n",
              "    <tr>\n",
              "      <th>3</th>\n",
              "      <td>4</td>\n",
              "      <td>Waiting to Exhale (1995)</td>\n",
              "      <td>Comedy|Drama</td>\n",
              "    </tr>\n",
              "    <tr>\n",
              "      <th>4</th>\n",
              "      <td>5</td>\n",
              "      <td>Father of the Bride Part II (1995)</td>\n",
              "      <td>Comedy</td>\n",
              "    </tr>\n",
              "  </tbody>\n",
              "</table>\n",
              "</div>"
            ],
            "text/plain": [
              "   movie_id                               title                         genre\n",
              "0         1                    Toy Story (1995)   Animation|Children's|Comedy\n",
              "1         2                      Jumanji (1995)  Adventure|Children's|Fantasy\n",
              "2         3             Grumpier Old Men (1995)                Comedy|Romance\n",
              "3         4            Waiting to Exhale (1995)                  Comedy|Drama\n",
              "4         5  Father of the Bride Part II (1995)                        Comedy"
            ]
          },
          "metadata": {
            "tags": []
          },
          "execution_count": 4
        }
      ]
    },
    {
      "cell_type": "code",
      "metadata": {
        "id": "gZflZphJg4mY",
        "colab_type": "code",
        "cellView": "form",
        "colab": {}
      },
      "source": [
        "#@title Criando a matriz de classificações (f × u), sendo linhas como filmes e colunas como usuários\n",
        "\n",
        "ratings_mat = np.ndarray(\n",
        "    shape=(np.max(data.movie_id.values), np.max(data.user_id.values)),\n",
        "    dtype=np.uint8)\n",
        "ratings_mat[data.movie_id.values-1, data.user_id.values-1] = data.rating.values"
      ],
      "execution_count": 0,
      "outputs": []
    },
    {
      "cell_type": "code",
      "metadata": {
        "id": "J51B0cSahD3p",
        "colab_type": "code",
        "cellView": "form",
        "colab": {}
      },
      "source": [
        "#@title Normalizando a matriz, subtraindo a média da mesma\n",
        "\n",
        "normalised_mat = ratings_mat - np.asarray([(np.mean(ratings_mat, 1))]).T"
      ],
      "execution_count": 0,
      "outputs": []
    },
    {
      "cell_type": "code",
      "metadata": {
        "id": "eAYCUKiHhH4J",
        "colab_type": "code",
        "cellView": "form",
        "colab": {}
      },
      "source": [
        "#@title Calculando o SVD\n",
        "\n",
        "A = normalised_mat.T / np.sqrt(ratings_mat.shape[0] - 1)\n",
        "U, S, V = np.linalg.svd(A)"
      ],
      "execution_count": 0,
      "outputs": []
    },
    {
      "cell_type": "code",
      "metadata": {
        "id": "0HMwljjDhPBV",
        "colab_type": "code",
        "cellView": "form",
        "colab": {}
      },
      "source": [
        "#@title Calculando a similaridade de cosseno, classificando os mais similares e retornando o maior\n",
        "\n",
        "def top_cosine_similarity(data, movie_id, top_n=10):\n",
        "    index = movie_id - 1 # Movie id starts from 1\n",
        "    movie_row = data[index, :]\n",
        "    magnitude = np.sqrt(np.einsum('ij, ij -> i', data, data))\n",
        "    similarity = np.dot(movie_row, data.T) / (magnitude[index] * magnitude)\n",
        "    sort_indexes = np.argsort(-similarity)\n",
        "    return sort_indexes[:top_n]\n",
        "\n",
        "# Helper function to print top N similar movies\n",
        "def print_similar_movies(movie_data, movie_id, top_indexes):\n",
        "    print('Recomendações para {0}: \\n'.format(\n",
        "    movie_data[movie_data.movie_id == movie_id].title.values[0]))\n",
        "    for id in top_indexes + 1:\n",
        "        print(movie_data[movie_data.movie_id == id].title.values[0])"
      ],
      "execution_count": 0,
      "outputs": []
    },
    {
      "cell_type": "code",
      "metadata": {
        "id": "GhErpJKh9xi5",
        "colab_type": "code",
        "outputId": "0cd7a905-86d8-48bb-8f6f-1d571764dab4",
        "cellView": "form",
        "colab": {
          "base_uri": "https://localhost:8080/",
          "height": 283
        }
      },
      "source": [
        "#@title Analisando a quantidade de componentes principais (`k`) adequados\n",
        "\n",
        "df=pd.DataFrame({'xvalues': list(range(len(S))), 'yvalues': S })\n",
        " \n",
        "plt.plot( 'xvalues', 'yvalues', data=df)\n",
        "#plt.axis([0, len(S), 0, 6])\n",
        "plt.xlabel(\"K componentes principais\")\n",
        "plt.ylabel(\"Erro\")\n",
        "plt.show()"
      ],
      "execution_count": 0,
      "outputs": [
        {
          "output_type": "display_data",
          "data": {
            "image/png": "[encoded data removed]",
            "text/plain": [
              "<Figure size 432x288 with 1 Axes>"
            ]
          },
          "metadata": {
            "tags": []
          }
        }
      ]
    },
    {
      "cell_type": "code",
      "metadata": {
        "id": "3V5kI0M_8sEY",
        "colab_type": "code",
        "outputId": "3e4fedab-888f-4767-a041-7b3eb2f32b45",
        "cellView": "form",
        "colab": {
          "base_uri": "https://localhost:8080/",
          "height": 283
        }
      },
      "source": [
        "#@title Visualizando a região mais próxima à inflexão\n",
        "\n",
        "df=pd.DataFrame({'xvalues': list(range(len(S))), 'yvalues': S })\n",
        " \n",
        "plt.plot( 'xvalues', 'yvalues', data=df)\n",
        "plt.axis([-50, 500, -50, 500])\n",
        "plt.xlabel(\"K\")\n",
        "plt.ylabel(\"Erro\")\n",
        "plt.show()"
      ],
      "execution_count": 0,
      "outputs": [
        {
          "output_type": "display_data",
          "data": {
            "image/png": "[encoded data removed]",
            "text/plain": [
              "<Figure size 432x288 with 1 Axes>"
            ]
          },
          "metadata": {
            "tags": []
          }
        }
      ]
    },
    {
      "cell_type": "code",
      "metadata": {
        "id": "ZWo9vSoq4kMO",
        "colab_type": "code",
        "outputId": "260232ed-b3e1-4f3f-abee-51707685f133",
        "cellView": "form",
        "colab": {
          "base_uri": "https://localhost:8080/",
          "height": 283
        }
      },
      "source": [
        "#@title Visualizando o erro através de uma função logarítmica\n",
        "df=pd.DataFrame({'xvalues': list(range(len(S))), 'yvalues': np.log(S) })\n",
        " \n",
        "plt.plot( 'xvalues', 'yvalues', data=df)\n",
        "plt.axis([-50, 500, 0, 9])\n",
        "plt.xlabel(\"K\")\n",
        "plt.ylabel(\"log(Erro)\")\n",
        "plt.show()"
      ],
      "execution_count": 0,
      "outputs": [
        {
          "output_type": "display_data",
          "data": {
            "image/png": "[encoded data removed]",
            "text/plain": [
              "<Figure size 432x288 with 1 Axes>"
            ]
          },
          "metadata": {
            "tags": []
          }
        }
      ]
    },
    {
      "cell_type": "code",
      "metadata": {
        "id": "T4KrNhTNhT35",
        "colab_type": "code",
        "outputId": "ae165013-979f-4a27-ea5c-057c4b53f539",
        "cellView": "form",
        "colab": {
          "base_uri": "https://localhost:8080/",
          "height": 221
        }
      },
      "source": [
        "#@title Definindo os `k` componentes principais para representar os filmes, um `movie_id` para encontrar recomendações e imprimir os `top_n` primeiros resultados\n",
        "\n",
        "k = 75\n",
        "movie_id = 1 # Grab an id from movies.dat\n",
        "top_n = 10\n",
        "\n",
        "sliced = V.T[:, :k] # representative data\n",
        "indexes = top_cosine_similarity(sliced, movie_id, top_n)\n",
        "print_similar_movies(movie_data, movie_id, indexes)"
      ],
      "execution_count": 0,
      "outputs": [
        {
          "output_type": "stream",
          "text": [
            "Recomendações para Toy Story (1995): \n",
            "\n",
            "Toy Story (1995)\n",
            "Babe (1995)\n",
            "Aladdin (1992)\n",
            "Beauty and the Beast (1991)\n",
            "Toy Story 2 (1999)\n",
            "Monty Python and the Holy Grail (1974)\n",
            "Groundhog Day (1993)\n",
            "Sword in the Stone, The (1963)\n",
            "Austin Powers: International Man of Mystery (1997)\n",
            "Lion King, The (1994)\n"
          ],
          "name": "stdout"
        }
      ]
    },
    {
      "cell_type": "code",
      "metadata": {
        "id": "QlrOuLKISAtc",
        "colab_type": "code",
        "outputId": "f271aa53-c38c-4857-c6be-f8e266616b04",
        "cellView": "form",
        "colab": {
          "base_uri": "https://localhost:8080/",
          "height": 221
        }
      },
      "source": [
        "#@title Analisando o comportamento utilizando os 10 componentes principais\n",
        "\n",
        "k = 10\n",
        "movie_id = 1 # Grab an id from movies.dat\n",
        "top_n = 10\n",
        "\n",
        "sliced = V.T[:, :k] # representative data\n",
        "indexes = top_cosine_similarity(sliced, movie_id, top_n)\n",
        "print_similar_movies(movie_data, movie_id, indexes)"
      ],
      "execution_count": 0,
      "outputs": [
        {
          "output_type": "stream",
          "text": [
            "Recomendações para Toy Story (1995): \n",
            "\n",
            "Toy Story (1995)\n",
            "Speed (1994)\n",
            "Armageddon (1998)\n",
            "Amadeus (1984)\n",
            "Wayne's World (1992)\n",
            "Get Shorty (1995)\n",
            "Austin Powers: International Man of Mystery (1997)\n",
            "Princess Bride, The (1987)\n",
            "Godfather: Part II, The (1974)\n",
            "Batman Returns (1992)\n"
          ],
          "name": "stdout"
        }
      ]
    },
    {
      "cell_type": "code",
      "metadata": {
        "id": "0J8YY5rASfot",
        "colab_type": "code",
        "outputId": "8be90b3b-f1dd-4247-ac53-94ab1838186e",
        "cellView": "form",
        "colab": {
          "base_uri": "https://localhost:8080/",
          "height": 221
        }
      },
      "source": [
        "#@title Analisando o comportamento utilizando os 500 componentes principais\n",
        "\n",
        "k = 500\n",
        "movie_id = 1 # Grab an id from movies.dat\n",
        "top_n = 10\n",
        "\n",
        "sliced = V.T[:, :k] # representative data\n",
        "indexes = top_cosine_similarity(sliced, movie_id, top_n)\n",
        "print_similar_movies(movie_data, movie_id, indexes)"
      ],
      "execution_count": 0,
      "outputs": [
        {
          "output_type": "stream",
          "text": [
            "Recomendações para Toy Story (1995): \n",
            "\n",
            "Toy Story (1995)\n",
            "Toy Story 2 (1999)\n",
            "Aladdin (1992)\n",
            "Armageddon (1998)\n",
            "Brady Bunch Movie, The (1995)\n",
            "Following (1998)\n",
            "There's Something About Mary (1998)\n",
            "Duoluo tianshi (1995)\n",
            "Get Shorty (1995)\n",
            "Pinocchio (1940)\n"
          ],
          "name": "stdout"
        }
      ]
    },
    {
      "cell_type": "markdown",
      "metadata": {
        "id": "QVbEl9znqKbZ",
        "colab_type": "text"
      },
      "source": [
        "# Referências"
      ]
    },
    {
      "cell_type": "markdown",
      "metadata": {
        "id": "XdfzTwsmqSLP",
        "colab_type": "text"
      },
      "source": [
        "\n",
        "1.   GROUPLENS. MovieLens 1M Dataset | GroupLens. Disponível em: <https://grouplens.org/datasets/movielens/1m/>. Acesso em: 3 jun 2019. \n",
        "2.   QUEK, Alyssa. Simple Movie Recommender Using SVD | Alyssa. Disponível em: https://alyssaq.github.io/2015/20150426-simple-movie-recommender-using-svd/. Acesso em: 8 maio 2019.\n",
        "4.   KLEIN, Philip N. Coding the Matrix: Linear Algebra through Computer Science Applications. [S.l.]: Newtonian Press, 2013. \n",
        "5.   SHLENS, Jonathon. A Tutorial on Principal Component Analysis. 3 Abr 2014. Disponível em: <http://arxiv.org/abs/1404.1100>. Acesso em: 3 jun 2019."
      ]
    },
    {
      "cell_type": "markdown",
      "metadata": {
        "id": "Q448yCBqZ5Ps",
        "colab_type": "text"
      },
      "source": [
        "# Obrigado!"
      ]
    },
    {
      "cell_type": "markdown",
      "metadata": {
        "id": "49lu4_EzZ-eB",
        "colab_type": "text"
      },
      "source": [
        "![alt text](https://4.bp.blogspot.com/-fRLYrN8Ihbs/Tnod3NQLltI/AAAAAAAAANM/Jo8zY5YwNAE/s1600/xkcd435.png)"
      ]
    }
  ]
}